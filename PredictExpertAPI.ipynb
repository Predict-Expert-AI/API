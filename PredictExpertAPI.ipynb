{
  "nbformat": 4,
  "nbformat_minor": 0,
  "metadata": {
    "colab": {
      "provenance": []
    },
    "kernelspec": {
      "name": "python3",
      "display_name": "Python 3"
    },
    "language_info": {
      "name": "python"
    }
  },
  "cells": [
    {
      "cell_type": "code",
      "execution_count": null,
      "metadata": {
        "id": "RnufZuqh3dYc"
      },
      "outputs": [],
      "source": [
        "import requests\n",
        "import json\n",
        "\n",
        "url = \"http://agi.expert/predict_simple\"\n",
        "\n",
        "payload = json.dumps({\n",
        "  \"exchange\": \"Stock\",\n",
        "  \"timeFrame\": \"1hr\",\n",
        "  \"asset\": \"AAPL\",\n",
        "  \"country\": \"USA\",\n",
        "  \"model\": \"deepQLearning\"\n",
        "})\n",
        "headers = {\n",
        "  'api-key': 'MSsrlUGuS5H6LprWxoWBmw',\n",
        "  'Content-Type': 'application/json'\n",
        "}\n",
        "\n",
        "response = requests.request(\"POST\", url, headers=headers, data=payload)\n",
        "\n",
        "print(response.text)\n",
        "task_id = response.text\n",
        "print(task_id)"
      ]
    },
    {
      "cell_type": "code",
      "source": [
        "import requests\n",
        "\n",
        "url = f\"https://api.agi.expert/predict_simple/{task_id}\"\n",
        "\n",
        "payload = {}\n",
        "headers = {\n",
        "  'api-key': 'MSsrlUGuS5H6LprWxoWBmw'\n",
        "}\n",
        "\n",
        "response = requests.request(\"GET\", url, headers=headers, data=payload)\n",
        "\n",
        "print(response.text)"
      ],
      "metadata": {
        "id": "pLx14MzT3htM"
      },
      "execution_count": null,
      "outputs": []
    }
  ]
}